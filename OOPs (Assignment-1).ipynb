{
 "cells": [
  {
   "cell_type": "markdown",
   "id": "a0a0c2c1-364f-47f7-86f5-c6dbc7a41d36",
   "metadata": {},
   "source": [
    "Q1. Explain Class and Object with respect to Object-Oriented Programming. Give a suitable example.\n",
    "\n",
    "Ans: A class is a collection of objects or it is a blueprint pf objects defining the common attributes and behaviour \n",
    "It can be ant Student class, Employee class etc.\n",
    "It can be defind as\n",
    "\n",
    "class className():\n",
    "    pass\n",
    "\n",
    "Objects: These are the specific instances of a class, i.e \n",
    "real world entities\n",
    "\n",
    "It can be defined as \n",
    "\n",
    "obj1= className()"
   ]
  },
  {
   "cell_type": "markdown",
   "id": "e784778b-c81e-40a4-bb21-200bcf3b7973",
   "metadata": {},
   "source": [
    "Q2. Name the four pillars of OOPs.\n",
    "\n",
    "Ans:\n",
    "Data Abstraction (Data hide)\n",
    "Inheritance (Reusability)\n",
    "Polymorphism (many form of objects)\n",
    "Encapsulation "
   ]
  },
  {
   "cell_type": "markdown",
   "id": "f2427f5d-0c7a-438b-a507-c6ac7822bd14",
   "metadata": {},
   "source": [
    "Q3.Explain why the __init__() function is used. Give a suitable example.\n",
    "Ans: The __init__() function is a special method in Python classes that is automatically called when an object is created from a class. It stands for \"initialize\" and is used to initialize the attributes of an object. Basically it is used to define a constructor. Below code is used for this purpose"
   ]
  },
  {
   "cell_type": "code",
   "execution_count": 1,
   "id": "9a7a7071-e13d-4521-8179-ce00e54ce8df",
   "metadata": {},
   "outputs": [
    {
     "name": "stdout",
     "output_type": "stream",
     "text": [
      "hello i am constructor \n"
     ]
    }
   ],
   "source": [
    "class Test :\n",
    "\n",
    "        def __init__ ( self ) :\n",
    "                print ( 'hello i am constructor ')\n",
    "                return None\n",
    "\n",
    "obj1 = Test ()"
   ]
  },
  {
   "cell_type": "markdown",
   "id": "86a353b0-dd3b-46dc-854b-6c53fc57463f",
   "metadata": {},
   "source": [
    "Q4. Why self is used in OOPs?\n",
    "\n",
    "Ans: \n",
    "In object-oriented programming (OOP), the self word is used as a convention to refer to the instance of a class. It represents the current object that a method is being called on. The self parameter is the first parameter in almost all instance methods in Python classes. When a method is called on an instance, the instance itself is automatically passed as the first argument to the method, and by convention, this argument is named self. However, you can choose any name for this parameter, but using self is a widely accepted convention in Python. The following code can be referred.."
   ]
  },
  {
   "cell_type": "code",
   "execution_count": 3,
   "id": "16989bd6-9d67-401e-946a-eed3f48029aa",
   "metadata": {},
   "outputs": [
    {
     "name": "stdout",
     "output_type": "stream",
     "text": [
      "SEEREE BBSR sita 01 10000\n"
     ]
    }
   ],
   "source": [
    "class Employee :\n",
    "\n",
    "        def __init__ ( self , a , b, c , d, e ) :\n",
    "                self . __class__ . compName = a\n",
    "                self . __class__ . compAddr = b\n",
    "                self . empName = c\n",
    "                self . empId = d\n",
    "                self . empSal = e\n",
    "\n",
    "        def __repr__ ( self ) :\n",
    "\n",
    "                return f'{self.__class__.compName} {self.__class__.compAddr} {self.empName} {self.empId} {self.empSal}'\n",
    "\n",
    "\n",
    "obj = Employee ( 'SEEREE' , 'BBSR' , 'sita' , '01' , 10000 )\t# __init__ \n",
    "print ( obj )\t# __repr__ \n"
   ]
  },
  {
   "cell_type": "markdown",
   "id": "d8bb27be-290b-4e64-a4b6-d2a182e3fe3a",
   "metadata": {},
   "source": [
    "Q5. What is inheritance? Give an example for each type of inheritance.\n",
    "\n",
    "Ans: \n",
    "OR Inheritance is a fundamental concept in object-oriented programming (OOP) that allows a class to inherit properties and behaviors from another class. It provides a way to create new classes (derived or child classes) based on existing classes (base or parent classes), forming a hierarchical relationship."
   ]
  }
 ],
 "metadata": {
  "kernelspec": {
   "display_name": "Python 3 (ipykernel)",
   "language": "python",
   "name": "python3"
  },
  "language_info": {
   "codemirror_mode": {
    "name": "ipython",
    "version": 3
   },
   "file_extension": ".py",
   "mimetype": "text/x-python",
   "name": "python",
   "nbconvert_exporter": "python",
   "pygments_lexer": "ipython3",
   "version": "3.10.8"
  }
 },
 "nbformat": 4,
 "nbformat_minor": 5
}
